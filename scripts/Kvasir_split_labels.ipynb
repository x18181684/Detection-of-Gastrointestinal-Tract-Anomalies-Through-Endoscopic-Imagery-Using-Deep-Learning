{
 "cells": [
  {
   "cell_type": "markdown",
   "metadata": {},
   "source": [
    "### Conversion of images to train_labels.csv and trai_labels.csv"
   ]
  },
  {
   "cell_type": "code",
   "execution_count": 1,
   "metadata": {},
   "outputs": [],
   "source": [
    "import numpy as np\n",
    "import pandas as pd\n",
    "np.random.seed(1)"
   ]
  },
  {
   "cell_type": "code",
   "execution_count": 5,
   "metadata": {},
   "outputs": [],
   "source": [
    "kvasir_labels = pd.read_csv('D:/Shreya_docs/kdata/kvasir_labels.csv')"
   ]
  },
  {
   "cell_type": "code",
   "execution_count": 6,
   "metadata": {},
   "outputs": [
    {
     "data": {
      "text/html": [
       "<div>\n",
       "<style scoped>\n",
       "    .dataframe tbody tr th:only-of-type {\n",
       "        vertical-align: middle;\n",
       "    }\n",
       "\n",
       "    .dataframe tbody tr th {\n",
       "        vertical-align: top;\n",
       "    }\n",
       "\n",
       "    .dataframe thead th {\n",
       "        text-align: right;\n",
       "    }\n",
       "</style>\n",
       "<table border=\"1\" class=\"dataframe\">\n",
       "  <thead>\n",
       "    <tr style=\"text-align: right;\">\n",
       "      <th></th>\n",
       "      <th>filename</th>\n",
       "      <th>width</th>\n",
       "      <th>height</th>\n",
       "      <th>class</th>\n",
       "      <th>xmin</th>\n",
       "      <th>ymin</th>\n",
       "      <th>xmax</th>\n",
       "      <th>ymax</th>\n",
       "    </tr>\n",
       "  </thead>\n",
       "  <tbody>\n",
       "    <tr>\n",
       "      <th>0</th>\n",
       "      <td>esophagitis1.jpg</td>\n",
       "      <td>1280</td>\n",
       "      <td>1024</td>\n",
       "      <td>esophagitis</td>\n",
       "      <td>333</td>\n",
       "      <td>622</td>\n",
       "      <td>612</td>\n",
       "      <td>834</td>\n",
       "    </tr>\n",
       "    <tr>\n",
       "      <th>1</th>\n",
       "      <td>esophagitis10.jpg</td>\n",
       "      <td>1280</td>\n",
       "      <td>1024</td>\n",
       "      <td>esophagitis</td>\n",
       "      <td>800</td>\n",
       "      <td>125</td>\n",
       "      <td>1153</td>\n",
       "      <td>383</td>\n",
       "    </tr>\n",
       "    <tr>\n",
       "      <th>2</th>\n",
       "      <td>esophagitis100.jpg</td>\n",
       "      <td>1280</td>\n",
       "      <td>1024</td>\n",
       "      <td>esophagitis</td>\n",
       "      <td>384</td>\n",
       "      <td>571</td>\n",
       "      <td>787</td>\n",
       "      <td>866</td>\n",
       "    </tr>\n",
       "    <tr>\n",
       "      <th>3</th>\n",
       "      <td>esophagitis101.jpg</td>\n",
       "      <td>1280</td>\n",
       "      <td>1024</td>\n",
       "      <td>esophagitis</td>\n",
       "      <td>923</td>\n",
       "      <td>188</td>\n",
       "      <td>1224</td>\n",
       "      <td>478</td>\n",
       "    </tr>\n",
       "    <tr>\n",
       "      <th>4</th>\n",
       "      <td>esophagitis102.jpg</td>\n",
       "      <td>1280</td>\n",
       "      <td>1024</td>\n",
       "      <td>esophagitis</td>\n",
       "      <td>740</td>\n",
       "      <td>203</td>\n",
       "      <td>1114</td>\n",
       "      <td>522</td>\n",
       "    </tr>\n",
       "  </tbody>\n",
       "</table>\n",
       "</div>"
      ],
      "text/plain": [
       "             filename  width  height        class  xmin  ymin  xmax  ymax\n",
       "0    esophagitis1.jpg   1280    1024  esophagitis   333   622   612   834\n",
       "1   esophagitis10.jpg   1280    1024  esophagitis   800   125  1153   383\n",
       "2  esophagitis100.jpg   1280    1024  esophagitis   384   571   787   866\n",
       "3  esophagitis101.jpg   1280    1024  esophagitis   923   188  1224   478\n",
       "4  esophagitis102.jpg   1280    1024  esophagitis   740   203  1114   522"
      ]
     },
     "execution_count": 6,
     "metadata": {},
     "output_type": "execute_result"
    }
   ],
   "source": [
    "kvasir_labels.head()"
   ]
  },
  {
   "cell_type": "code",
   "execution_count": 7,
   "metadata": {},
   "outputs": [],
   "source": [
    "grouped = kvasir_labels.groupby('filename')"
   ]
  },
  {
   "cell_type": "code",
   "execution_count": 8,
   "metadata": {},
   "outputs": [
    {
     "data": {
      "text/plain": [
       "1    900\n",
       "dtype: int64"
      ]
     },
     "execution_count": 8,
     "metadata": {},
     "output_type": "execute_result"
    }
   ],
   "source": [
    "grouped.apply(lambda x: len(x)).value_counts()"
   ]
  },
  {
   "cell_type": "code",
   "execution_count": 9,
   "metadata": {},
   "outputs": [],
   "source": [
    "gb = kvasir_labels.groupby('filename')"
   ]
  },
  {
   "cell_type": "code",
   "execution_count": 10,
   "metadata": {},
   "outputs": [],
   "source": [
    "grouped_list = [gb.get_group(x) for x in gb.groups]"
   ]
  },
  {
   "cell_type": "code",
   "execution_count": 11,
   "metadata": {},
   "outputs": [
    {
     "data": {
      "text/plain": [
       "900"
      ]
     },
     "execution_count": 11,
     "metadata": {},
     "output_type": "execute_result"
    }
   ],
   "source": [
    "len(grouped_list)"
   ]
  },
  {
   "cell_type": "markdown",
   "metadata": {},
   "source": [
    "\n",
    "# Splitting this file into two parts - test (20%) and train (80%)"
   ]
  },
  {
   "cell_type": "code",
   "execution_count": 14,
   "metadata": {},
   "outputs": [],
   "source": [
    "train_index = np.random.choice(len(grouped_list), size=720, replace=False)\n",
    "test_index = np.setdiff1d(list(range(900)), train_index)"
   ]
  },
  {
   "cell_type": "code",
   "execution_count": 15,
   "metadata": {},
   "outputs": [
    {
     "data": {
      "text/plain": [
       "(720, 180)"
      ]
     },
     "execution_count": 15,
     "metadata": {},
     "output_type": "execute_result"
    }
   ],
   "source": [
    "len(train_index), len(test_index)"
   ]
  },
  {
   "cell_type": "code",
   "execution_count": 16,
   "metadata": {},
   "outputs": [],
   "source": [
    "# take first 900 files\n",
    "train = pd.concat([grouped_list[i] for i in train_index])\n",
    "test = pd.concat([grouped_list[i] for i in test_index])"
   ]
  },
  {
   "cell_type": "code",
   "execution_count": 17,
   "metadata": {},
   "outputs": [
    {
     "data": {
      "text/plain": [
       "(720, 180)"
      ]
     },
     "execution_count": 17,
     "metadata": {},
     "output_type": "execute_result"
    }
   ],
   "source": [
    "len(train), len(test)"
   ]
  },
  {
   "cell_type": "code",
   "execution_count": 18,
   "metadata": {},
   "outputs": [],
   "source": [
    "train.to_csv('train_labels.csv', index=None)\n",
    "test.to_csv('test_labels.csv', index=None)"
   ]
  },
  {
   "cell_type": "code",
   "execution_count": 19,
   "metadata": {},
   "outputs": [],
   "source": [
    "train_df = pd.read_csv('train_labels.csv')"
   ]
  },
  {
   "cell_type": "code",
   "execution_count": 20,
   "metadata": {},
   "outputs": [
    {
     "data": {
      "text/html": [
       "<div>\n",
       "<style scoped>\n",
       "    .dataframe tbody tr th:only-of-type {\n",
       "        vertical-align: middle;\n",
       "    }\n",
       "\n",
       "    .dataframe tbody tr th {\n",
       "        vertical-align: top;\n",
       "    }\n",
       "\n",
       "    .dataframe thead th {\n",
       "        text-align: right;\n",
       "    }\n",
       "</style>\n",
       "<table border=\"1\" class=\"dataframe\">\n",
       "  <thead>\n",
       "    <tr style=\"text-align: right;\">\n",
       "      <th></th>\n",
       "      <th>filename</th>\n",
       "      <th>width</th>\n",
       "      <th>height</th>\n",
       "      <th>class</th>\n",
       "      <th>xmin</th>\n",
       "      <th>ymin</th>\n",
       "      <th>xmax</th>\n",
       "      <th>ymax</th>\n",
       "    </tr>\n",
       "  </thead>\n",
       "  <tbody>\n",
       "    <tr>\n",
       "      <th>0</th>\n",
       "      <td>esophagitis83.jpg</td>\n",
       "      <td>1280</td>\n",
       "      <td>1024</td>\n",
       "      <td>esophagitis</td>\n",
       "      <td>418</td>\n",
       "      <td>203</td>\n",
       "      <td>771</td>\n",
       "      <td>537</td>\n",
       "    </tr>\n",
       "    <tr>\n",
       "      <th>1</th>\n",
       "      <td>esophagitis70.jpg</td>\n",
       "      <td>1280</td>\n",
       "      <td>1024</td>\n",
       "      <td>esophagitis</td>\n",
       "      <td>753</td>\n",
       "      <td>255</td>\n",
       "      <td>1086</td>\n",
       "      <td>610</td>\n",
       "    </tr>\n",
       "    <tr>\n",
       "      <th>2</th>\n",
       "      <td>uc243.jpg</td>\n",
       "      <td>720</td>\n",
       "      <td>576</td>\n",
       "      <td>ulcerative colitis</td>\n",
       "      <td>261</td>\n",
       "      <td>58</td>\n",
       "      <td>460</td>\n",
       "      <td>204</td>\n",
       "    </tr>\n",
       "    <tr>\n",
       "      <th>3</th>\n",
       "      <td>polyps130.jpg</td>\n",
       "      <td>720</td>\n",
       "      <td>576</td>\n",
       "      <td>polyps</td>\n",
       "      <td>237</td>\n",
       "      <td>269</td>\n",
       "      <td>523</td>\n",
       "      <td>551</td>\n",
       "    </tr>\n",
       "    <tr>\n",
       "      <th>4</th>\n",
       "      <td>esophagitis74.jpg</td>\n",
       "      <td>1280</td>\n",
       "      <td>1024</td>\n",
       "      <td>esophagitis</td>\n",
       "      <td>468</td>\n",
       "      <td>553</td>\n",
       "      <td>781</td>\n",
       "      <td>922</td>\n",
       "    </tr>\n",
       "  </tbody>\n",
       "</table>\n",
       "</div>"
      ],
      "text/plain": [
       "            filename  width  height               class  xmin  ymin  xmax  \\\n",
       "0  esophagitis83.jpg   1280    1024         esophagitis   418   203   771   \n",
       "1  esophagitis70.jpg   1280    1024         esophagitis   753   255  1086   \n",
       "2          uc243.jpg    720     576  ulcerative colitis   261    58   460   \n",
       "3      polyps130.jpg    720     576              polyps   237   269   523   \n",
       "4  esophagitis74.jpg   1280    1024         esophagitis   468   553   781   \n",
       "\n",
       "   ymax  \n",
       "0   537  \n",
       "1   610  \n",
       "2   204  \n",
       "3   551  \n",
       "4   922  "
      ]
     },
     "execution_count": 20,
     "metadata": {},
     "output_type": "execute_result"
    }
   ],
   "source": [
    "test_df.head()"
   ]
  },
  {
   "cell_type": "code",
   "execution_count": 21,
   "metadata": {},
   "outputs": [],
   "source": [
    "ch = test_df.groupby('class')"
   ]
  },
  {
   "cell_type": "code",
   "execution_count": 22,
   "metadata": {},
   "outputs": [],
   "source": [
    "ch_list = [ch.get_group(x) for x in ch.groups]"
   ]
  },
  {
   "cell_type": "code",
   "execution_count": 23,
   "metadata": {},
   "outputs": [
    {
     "data": {
      "text/plain": [
       "3"
      ]
     },
     "execution_count": 23,
     "metadata": {},
     "output_type": "execute_result"
    }
   ],
   "source": [
    "len(ch_list)"
   ]
  }
 ],
 "metadata": {
  "kernelspec": {
   "display_name": "Python 3",
   "language": "python",
   "name": "python3"
  },
  "language_info": {
   "codemirror_mode": {
    "name": "ipython",
    "version": 3
   },
   "file_extension": ".py",
   "mimetype": "text/x-python",
   "name": "python",
   "nbconvert_exporter": "python",
   "pygments_lexer": "ipython3",
   "version": "3.7.3"
  }
 },
 "nbformat": 4,
 "nbformat_minor": 4
}
